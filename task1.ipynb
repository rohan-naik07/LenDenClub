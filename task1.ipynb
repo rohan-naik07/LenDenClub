{
 "cells": [
  {
   "cell_type": "code",
   "execution_count": 15,
   "metadata": {},
   "outputs": [
    {
     "name": "stdout",
     "output_type": "stream",
     "text": [
      "C:\\Users\\me\\Downloads\n",
      "{'Source': 'NOVEL_PATTERNS', 'User ID': 394897, 'Json Response': None, 'Comments': '', 'Status': 'SUCCESS', 'Updated Date': '2020-07-09T02:53:05.21446+05:30', 'Response': \"{u'status': u'Rejected', u'uploadTime': None, u'docId': None, u'periodStart': None, u'periodEnd': None, u'ocrFile': False, u'fileName': None, u'bankStatement': False, u'error': True, u'totalPages': None, u'message': u'Unparsable Zip.', u'fileCount': 0}\", 'Created Date': '2020-07-09T02:53:05.214431+05:30', 'ID': 5530737, 'Task ID': 435329, 'Action': 'DOCUMENT UPLOAD'}\n"
     ]
    }
   ],
   "source": [
    "path = 'Users\\me\\Desktop'\n",
    "\n",
    "import json\n",
    "import os\n",
    "print(os.getcwd())\n",
    "with open('task.json') as f:\n",
    "    data = json.load(f)\n",
    "\n",
    "print(data[0])"
   ]
  },
  {
   "cell_type": "code",
   "execution_count": 17,
   "metadata": {},
   "outputs": [
    {
     "name": "stdout",
     "output_type": "stream",
     "text": [
      "dict_keys(['Source', 'User ID', 'Json Response', 'Comments', 'Status', 'Updated Date', 'Response', 'Created Date', 'ID', 'Task ID', 'Action'])\n"
     ]
    }
   ],
   "source": [
    "data_dict = data[0]\n",
    "print(data_dict.keys())"
   ]
  },
  {
   "cell_type": "code",
   "execution_count": null,
   "metadata": {},
   "outputs": [],
   "source": []
  }
 ],
 "metadata": {
  "kernelspec": {
   "display_name": "Python 3",
   "language": "python",
   "name": "python3"
  },
  "language_info": {
   "codemirror_mode": {
    "name": "ipython",
    "version": 3
   },
   "file_extension": ".py",
   "mimetype": "text/x-python",
   "name": "python",
   "nbconvert_exporter": "python",
   "pygments_lexer": "ipython3",
   "version": "3.7.4"
  }
 },
 "nbformat": 4,
 "nbformat_minor": 2
}
