{
  "nbformat": 4,
  "nbformat_minor": 0,
  "metadata": {
    "colab": {
      "name": "v3_Task2.ipynb",
      "provenance": [],
      "collapsed_sections": []
    },
    "kernelspec": {
      "name": "python3",
      "display_name": "Python 3"
    }
  },
  "cells": [
    {
      "cell_type": "code",
      "metadata": {
        "id": "QVaE3K650bpb",
        "colab_type": "code",
        "colab": {}
      },
      "source": [
        "import os\n",
        "import numpy as np\n",
        "import pandas as pd\n",
        "import json\n",
        "import ast\n",
        "from pandas.io.json import json_normalize\n",
        "\n",
        "path = '/content/query_result_2020-07-10T11_58_44.440082Z.csv'"
      ],
      "execution_count": 92,
      "outputs": []
    },
    {
      "cell_type": "code",
      "metadata": {
        "id": "LtHAV9yFL4yq",
        "colab_type": "code",
        "colab": {}
      },
      "source": [
        "df = pd.read_csv(path)"
      ],
      "execution_count": 93,
      "outputs": []
    },
    {
      "cell_type": "code",
      "metadata": {
        "id": "UYtPHSliMMjn",
        "colab_type": "code",
        "colab": {
          "base_uri": "https://localhost:8080/",
          "height": 106
        },
        "outputId": "29129ac2-bc6b-456b-9ef9-943487244f03"
      },
      "source": [
        "df = pd.concat([df['User ID'],df['Response']],axis=1)\n",
        "df.head(2)"
      ],
      "execution_count": 94,
      "outputs": [
        {
          "output_type": "execute_result",
          "data": {
            "text/html": [
              "<div>\n",
              "<style scoped>\n",
              "    .dataframe tbody tr th:only-of-type {\n",
              "        vertical-align: middle;\n",
              "    }\n",
              "\n",
              "    .dataframe tbody tr th {\n",
              "        vertical-align: top;\n",
              "    }\n",
              "\n",
              "    .dataframe thead th {\n",
              "        text-align: right;\n",
              "    }\n",
              "</style>\n",
              "<table border=\"1\" class=\"dataframe\">\n",
              "  <thead>\n",
              "    <tr style=\"text-align: right;\">\n",
              "      <th></th>\n",
              "      <th>User ID</th>\n",
              "      <th>Response</th>\n",
              "    </tr>\n",
              "  </thead>\n",
              "  <tbody>\n",
              "    <tr>\n",
              "      <th>0</th>\n",
              "      <td>394897</td>\n",
              "      <td>{u'status': u'Rejected', u'uploadTime': None, ...</td>\n",
              "    </tr>\n",
              "    <tr>\n",
              "      <th>1</th>\n",
              "      <td>104832</td>\n",
              "      <td>{u'status': u'Submitted', u'uploadTime': 15942...</td>\n",
              "    </tr>\n",
              "  </tbody>\n",
              "</table>\n",
              "</div>"
            ],
            "text/plain": [
              "   User ID                                           Response\n",
              "0   394897  {u'status': u'Rejected', u'uploadTime': None, ...\n",
              "1   104832  {u'status': u'Submitted', u'uploadTime': 15942..."
            ]
          },
          "metadata": {
            "tags": []
          },
          "execution_count": 94
        }
      ]
    },
    {
      "cell_type": "code",
      "metadata": {
        "id": "ylo_0THpNdxP",
        "colab_type": "code",
        "colab": {}
      },
      "source": [
        "df['Response'] = df['Response'].apply(lambda x : ast.literal_eval(str(x)))"
      ],
      "execution_count": 95,
      "outputs": []
    },
    {
      "cell_type": "code",
      "metadata": {
        "id": "QeKaZN5-O1ep",
        "colab_type": "code",
        "colab": {
          "base_uri": "https://localhost:8080/",
          "height": 106
        },
        "outputId": "a90defaf-4082-4331-edab-b69fa14aabd3"
      },
      "source": [
        "df.head(2)"
      ],
      "execution_count": 96,
      "outputs": [
        {
          "output_type": "execute_result",
          "data": {
            "text/html": [
              "<div>\n",
              "<style scoped>\n",
              "    .dataframe tbody tr th:only-of-type {\n",
              "        vertical-align: middle;\n",
              "    }\n",
              "\n",
              "    .dataframe tbody tr th {\n",
              "        vertical-align: top;\n",
              "    }\n",
              "\n",
              "    .dataframe thead th {\n",
              "        text-align: right;\n",
              "    }\n",
              "</style>\n",
              "<table border=\"1\" class=\"dataframe\">\n",
              "  <thead>\n",
              "    <tr style=\"text-align: right;\">\n",
              "      <th></th>\n",
              "      <th>User ID</th>\n",
              "      <th>Response</th>\n",
              "    </tr>\n",
              "  </thead>\n",
              "  <tbody>\n",
              "    <tr>\n",
              "      <th>0</th>\n",
              "      <td>394897</td>\n",
              "      <td>{'status': 'Rejected', 'uploadTime': None, 'do...</td>\n",
              "    </tr>\n",
              "    <tr>\n",
              "      <th>1</th>\n",
              "      <td>104832</td>\n",
              "      <td>{'status': 'Submitted', 'uploadTime': 15942436...</td>\n",
              "    </tr>\n",
              "  </tbody>\n",
              "</table>\n",
              "</div>"
            ],
            "text/plain": [
              "   User ID                                           Response\n",
              "0   394897  {'status': 'Rejected', 'uploadTime': None, 'do...\n",
              "1   104832  {'status': 'Submitted', 'uploadTime': 15942436..."
            ]
          },
          "metadata": {
            "tags": []
          },
          "execution_count": 96
        }
      ]
    },
    {
      "cell_type": "code",
      "metadata": {
        "id": "iaGsgIa1RUAj",
        "colab_type": "code",
        "colab": {
          "base_uri": "https://localhost:8080/",
          "height": 257
        },
        "outputId": "b6d852bc-61ba-4f31-ea90-7ef6b4523c5c"
      },
      "source": [
        "df2 = json_normalize(df['Response'])\n",
        "df2.head(3)"
      ],
      "execution_count": 97,
      "outputs": [
        {
          "output_type": "stream",
          "text": [
            "/usr/local/lib/python3.6/dist-packages/ipykernel_launcher.py:1: FutureWarning: pandas.io.json.json_normalize is deprecated, use pandas.json_normalize instead\n",
            "  \"\"\"Entry point for launching an IPython kernel.\n"
          ],
          "name": "stderr"
        },
        {
          "output_type": "execute_result",
          "data": {
            "text/html": [
              "<div>\n",
              "<style scoped>\n",
              "    .dataframe tbody tr th:only-of-type {\n",
              "        vertical-align: middle;\n",
              "    }\n",
              "\n",
              "    .dataframe tbody tr th {\n",
              "        vertical-align: top;\n",
              "    }\n",
              "\n",
              "    .dataframe thead th {\n",
              "        text-align: right;\n",
              "    }\n",
              "</style>\n",
              "<table border=\"1\" class=\"dataframe\">\n",
              "  <thead>\n",
              "    <tr style=\"text-align: right;\">\n",
              "      <th></th>\n",
              "      <th>status</th>\n",
              "      <th>uploadTime</th>\n",
              "      <th>docId</th>\n",
              "      <th>periodStart</th>\n",
              "      <th>periodEnd</th>\n",
              "      <th>ocrFile</th>\n",
              "      <th>fileName</th>\n",
              "      <th>bankStatement</th>\n",
              "      <th>error</th>\n",
              "      <th>totalPages</th>\n",
              "      <th>message</th>\n",
              "      <th>fileCount</th>\n",
              "      <th>data</th>\n",
              "    </tr>\n",
              "  </thead>\n",
              "  <tbody>\n",
              "    <tr>\n",
              "      <th>0</th>\n",
              "      <td>Rejected</td>\n",
              "      <td>NaN</td>\n",
              "      <td>None</td>\n",
              "      <td>None</td>\n",
              "      <td>None</td>\n",
              "      <td>False</td>\n",
              "      <td>None</td>\n",
              "      <td>False</td>\n",
              "      <td>True</td>\n",
              "      <td>NaN</td>\n",
              "      <td>Unparsable Zip.</td>\n",
              "      <td>0.0</td>\n",
              "      <td>NaN</td>\n",
              "    </tr>\n",
              "    <tr>\n",
              "      <th>1</th>\n",
              "      <td>Submitted</td>\n",
              "      <td>1.594244e+12</td>\n",
              "      <td>DOC00123773</td>\n",
              "      <td>None</td>\n",
              "      <td>None</td>\n",
              "      <td>False</td>\n",
              "      <td>bank_statement1_200709025754771155.pdf</td>\n",
              "      <td>False</td>\n",
              "      <td>False</td>\n",
              "      <td>4.0</td>\n",
              "      <td>None</td>\n",
              "      <td>1.0</td>\n",
              "      <td>NaN</td>\n",
              "    </tr>\n",
              "    <tr>\n",
              "      <th>2</th>\n",
              "      <td>Processed</td>\n",
              "      <td>NaN</td>\n",
              "      <td>DOC00123773</td>\n",
              "      <td>None</td>\n",
              "      <td>None</td>\n",
              "      <td>NaN</td>\n",
              "      <td>NaN</td>\n",
              "      <td>False</td>\n",
              "      <td>False</td>\n",
              "      <td>NaN</td>\n",
              "      <td>None</td>\n",
              "      <td>NaN</td>\n",
              "      <td>[{'unmatchedCibil': None, 'panNumber': None, '...</td>\n",
              "    </tr>\n",
              "  </tbody>\n",
              "</table>\n",
              "</div>"
            ],
            "text/plain": [
              "      status  ...                                               data\n",
              "0   Rejected  ...                                                NaN\n",
              "1  Submitted  ...                                                NaN\n",
              "2  Processed  ...  [{'unmatchedCibil': None, 'panNumber': None, '...\n",
              "\n",
              "[3 rows x 13 columns]"
            ]
          },
          "metadata": {
            "tags": []
          },
          "execution_count": 97
        }
      ]
    },
    {
      "cell_type": "code",
      "metadata": {
        "id": "MGBqNuWFSGPy",
        "colab_type": "code",
        "colab": {}
      },
      "source": [
        "df3 = pd.concat([df['User ID'],df2['data']],axis=1)"
      ],
      "execution_count": 98,
      "outputs": []
    },
    {
      "cell_type": "code",
      "metadata": {
        "id": "ggXFcN3dSxBz",
        "colab_type": "code",
        "colab": {}
      },
      "source": [
        "df3 = df3[df3['data'].notnull()]"
      ],
      "execution_count": 99,
      "outputs": []
    },
    {
      "cell_type": "code",
      "metadata": {
        "id": "3CqT9FUMTzcn",
        "colab_type": "code",
        "colab": {
          "base_uri": "https://localhost:8080/",
          "height": 136
        },
        "outputId": "bdffd68e-b96d-49f0-c3d0-5419c2059a1a"
      },
      "source": [
        "df3.index = pd.RangeIndex(start = 0,stop=319,step=1)\n",
        "df3.head(3)"
      ],
      "execution_count": 100,
      "outputs": [
        {
          "output_type": "execute_result",
          "data": {
            "text/html": [
              "<div>\n",
              "<style scoped>\n",
              "    .dataframe tbody tr th:only-of-type {\n",
              "        vertical-align: middle;\n",
              "    }\n",
              "\n",
              "    .dataframe tbody tr th {\n",
              "        vertical-align: top;\n",
              "    }\n",
              "\n",
              "    .dataframe thead th {\n",
              "        text-align: right;\n",
              "    }\n",
              "</style>\n",
              "<table border=\"1\" class=\"dataframe\">\n",
              "  <thead>\n",
              "    <tr style=\"text-align: right;\">\n",
              "      <th></th>\n",
              "      <th>User ID</th>\n",
              "      <th>data</th>\n",
              "    </tr>\n",
              "  </thead>\n",
              "  <tbody>\n",
              "    <tr>\n",
              "      <th>0</th>\n",
              "      <td>104832</td>\n",
              "      <td>[{'unmatchedCibil': None, 'panNumber': None, '...</td>\n",
              "    </tr>\n",
              "    <tr>\n",
              "      <th>1</th>\n",
              "      <td>434859</td>\n",
              "      <td>[{'unmatchedCibil': None, 'panNumber': None, '...</td>\n",
              "    </tr>\n",
              "    <tr>\n",
              "      <th>2</th>\n",
              "      <td>293921</td>\n",
              "      <td>[{'unmatchedCibil': None, 'panNumber': None, '...</td>\n",
              "    </tr>\n",
              "  </tbody>\n",
              "</table>\n",
              "</div>"
            ],
            "text/plain": [
              "   User ID                                               data\n",
              "0   104832  [{'unmatchedCibil': None, 'panNumber': None, '...\n",
              "1   434859  [{'unmatchedCibil': None, 'panNumber': None, '...\n",
              "2   293921  [{'unmatchedCibil': None, 'panNumber': None, '..."
            ]
          },
          "metadata": {
            "tags": []
          },
          "execution_count": 100
        }
      ]
    },
    {
      "cell_type": "code",
      "metadata": {
        "id": "A0rjXwnbUVdf",
        "colab_type": "code",
        "colab": {}
      },
      "source": [
        "bank_names = []\n",
        "for i in range(df3.shape[0]):\n",
        "  bank_names.append(df3['data'][i][0]['bankName'])\n",
        "bank_names"
      ],
      "execution_count": null,
      "outputs": []
    },
    {
      "cell_type": "code",
      "metadata": {
        "id": "1X6AsOHMUiom",
        "colab_type": "code",
        "colab": {}
      },
      "source": [
        "df3['data'][260][0] #[-1]['totalSalary']"
      ],
      "execution_count": null,
      "outputs": []
    },
    {
      "cell_type": "code",
      "metadata": {
        "id": "kApAyREjhxgL",
        "colab_type": "code",
        "colab": {
          "base_uri": "https://localhost:8080/",
          "height": 34
        },
        "outputId": "767aae01-f935-40fe-e506-56b5503cd606"
      },
      "source": [
        "df3['data'][260][0]['salary'] #[-1]['totalSalary']"
      ],
      "execution_count": 103,
      "outputs": [
        {
          "output_type": "execute_result",
          "data": {
            "text/plain": [
              "[]"
            ]
          },
          "metadata": {
            "tags": []
          },
          "execution_count": 103
        }
      ]
    },
    {
      "cell_type": "code",
      "metadata": {
        "id": "ej2Y1YUMiGu3",
        "colab_type": "code",
        "colab": {}
      },
      "source": [
        "salary = []\n",
        "for i in range(df3.shape[0]):\n",
        "  if df3['data'][i][0]['salary']:\n",
        "    salary.append(df3['data'][i][0]['salary'][-1]['totalSalary'])\n",
        "  else:\n",
        "    salary.append(-1)\n",
        "salary"
      ],
      "execution_count": null,
      "outputs": []
    },
    {
      "cell_type": "code",
      "metadata": {
        "id": "NWpyr2MVYO7k",
        "colab_type": "code",
        "colab": {}
      },
      "source": [
        "account_nos = []\n",
        "for i in range(df3.shape[0]):\n",
        "  account_nos.append(df3['data'][i][0]['accountNumber'])\n",
        "account_nos"
      ],
      "execution_count": null,
      "outputs": []
    },
    {
      "cell_type": "code",
      "metadata": {
        "id": "jWVYSbysgNuC",
        "colab_type": "code",
        "colab": {}
      },
      "source": [
        "account_name = []\n",
        "for i in range(df3.shape[0]):\n",
        "  account_name.append(df3['data'][i][0]['accountName'])\n",
        "account_name"
      ],
      "execution_count": null,
      "outputs": []
    },
    {
      "cell_type": "code",
      "metadata": {
        "id": "G5fHSy83gUOT",
        "colab_type": "code",
        "colab": {}
      },
      "source": [
        "account_name = np.array(account_name)\n",
        "account_nos = np.array(account_nos)\n",
        "bank_names = np.array(bank_names)\n",
        "salary = np.array(salary)"
      ],
      "execution_count": 107,
      "outputs": []
    },
    {
      "cell_type": "code",
      "metadata": {
        "id": "pFKMjja_gT_j",
        "colab_type": "code",
        "colab": {}
      },
      "source": [
        "final_df = pd.DataFrame({'User-ID':df3['User ID'],'Bank-Name':bank_names,'Account-Holder-Name':account_name,'Account-No':account_nos,'Recent-Salary':salary})"
      ],
      "execution_count": 108,
      "outputs": []
    },
    {
      "cell_type": "code",
      "metadata": {
        "id": "i-W45etcg0mV",
        "colab_type": "code",
        "colab": {
          "base_uri": "https://localhost:8080/",
          "height": 402
        },
        "outputId": "445f3869-af2d-49e8-8818-51f019c1dc66"
      },
      "source": [
        "final_df"
      ],
      "execution_count": 109,
      "outputs": [
        {
          "output_type": "execute_result",
          "data": {
            "text/html": [
              "<div>\n",
              "<style scoped>\n",
              "    .dataframe tbody tr th:only-of-type {\n",
              "        vertical-align: middle;\n",
              "    }\n",
              "\n",
              "    .dataframe tbody tr th {\n",
              "        vertical-align: top;\n",
              "    }\n",
              "\n",
              "    .dataframe thead th {\n",
              "        text-align: right;\n",
              "    }\n",
              "</style>\n",
              "<table border=\"1\" class=\"dataframe\">\n",
              "  <thead>\n",
              "    <tr style=\"text-align: right;\">\n",
              "      <th></th>\n",
              "      <th>User-ID</th>\n",
              "      <th>Bank-Name</th>\n",
              "      <th>Account-Holder-Name</th>\n",
              "      <th>Account-No</th>\n",
              "      <th>Recent-Salary</th>\n",
              "    </tr>\n",
              "  </thead>\n",
              "  <tbody>\n",
              "    <tr>\n",
              "      <th>0</th>\n",
              "      <td>104832</td>\n",
              "      <td>HDFC</td>\n",
              "      <td>SHANKAR VITTHAL BANSODE</td>\n",
              "      <td>50100287183763</td>\n",
              "      <td>11553.0</td>\n",
              "    </tr>\n",
              "    <tr>\n",
              "      <th>1</th>\n",
              "      <td>434859</td>\n",
              "      <td>STANDARD CHARTERED</td>\n",
              "      <td>KUMAR NITESH</td>\n",
              "      <td>27011717278</td>\n",
              "      <td>18271.0</td>\n",
              "    </tr>\n",
              "    <tr>\n",
              "      <th>2</th>\n",
              "      <td>293921</td>\n",
              "      <td>HDFC</td>\n",
              "      <td>PAWAN KUMAR RAI</td>\n",
              "      <td>50100330886677</td>\n",
              "      <td>17436.0</td>\n",
              "    </tr>\n",
              "    <tr>\n",
              "      <th>3</th>\n",
              "      <td>172850</td>\n",
              "      <td>ICICI</td>\n",
              "      <td>FARIDUDDIN CHAUDHARY</td>\n",
              "      <td>197401503617</td>\n",
              "      <td>-1.0</td>\n",
              "    </tr>\n",
              "    <tr>\n",
              "      <th>4</th>\n",
              "      <td>63085</td>\n",
              "      <td>ICICI</td>\n",
              "      <td>RUPESH YENUGU</td>\n",
              "      <td>059601506728</td>\n",
              "      <td>-1.0</td>\n",
              "    </tr>\n",
              "    <tr>\n",
              "      <th>...</th>\n",
              "      <td>...</td>\n",
              "      <td>...</td>\n",
              "      <td>...</td>\n",
              "      <td>...</td>\n",
              "      <td>...</td>\n",
              "    </tr>\n",
              "    <tr>\n",
              "      <th>314</th>\n",
              "      <td>321522</td>\n",
              "      <td>IDFC</td>\n",
              "      <td>R Prabu</td>\n",
              "      <td>10038821419</td>\n",
              "      <td>14078.0</td>\n",
              "    </tr>\n",
              "    <tr>\n",
              "      <th>315</th>\n",
              "      <td>293171</td>\n",
              "      <td>ICICI</td>\n",
              "      <td>None</td>\n",
              "      <td>001401538521</td>\n",
              "      <td>41627.0</td>\n",
              "    </tr>\n",
              "    <tr>\n",
              "      <th>316</th>\n",
              "      <td>539352</td>\n",
              "      <td>SBI</td>\n",
              "      <td>MARI KANAKA DURGA</td>\n",
              "      <td>00000062308585354</td>\n",
              "      <td>-1.0</td>\n",
              "    </tr>\n",
              "    <tr>\n",
              "      <th>317</th>\n",
              "      <td>103270</td>\n",
              "      <td>HDFC</td>\n",
              "      <td>RUPA YASH SHUKLA</td>\n",
              "      <td>50100257779051</td>\n",
              "      <td>27500.0</td>\n",
              "    </tr>\n",
              "    <tr>\n",
              "      <th>318</th>\n",
              "      <td>540212</td>\n",
              "      <td>HDFC</td>\n",
              "      <td>NILENDU DAS</td>\n",
              "      <td>50100199646413</td>\n",
              "      <td>32476.0</td>\n",
              "    </tr>\n",
              "  </tbody>\n",
              "</table>\n",
              "<p>319 rows × 5 columns</p>\n",
              "</div>"
            ],
            "text/plain": [
              "     User-ID           Bank-Name  ...         Account-No Recent-Salary\n",
              "0     104832                HDFC  ...     50100287183763       11553.0\n",
              "1     434859  STANDARD CHARTERED  ...        27011717278       18271.0\n",
              "2     293921                HDFC  ...     50100330886677       17436.0\n",
              "3     172850               ICICI  ...       197401503617          -1.0\n",
              "4      63085               ICICI  ...       059601506728          -1.0\n",
              "..       ...                 ...  ...                ...           ...\n",
              "314   321522                IDFC  ...        10038821419       14078.0\n",
              "315   293171               ICICI  ...       001401538521       41627.0\n",
              "316   539352                 SBI  ...  00000062308585354          -1.0\n",
              "317   103270                HDFC  ...     50100257779051       27500.0\n",
              "318   540212                HDFC  ...     50100199646413       32476.0\n",
              "\n",
              "[319 rows x 5 columns]"
            ]
          },
          "metadata": {
            "tags": []
          },
          "execution_count": 109
        }
      ]
    },
    {
      "cell_type": "code",
      "metadata": {
        "id": "K1D1Bbhfa5Ko",
        "colab_type": "code",
        "colab": {}
      },
      "source": [
        "final_df.to_csv('v3_final.csv',index=False)"
      ],
      "execution_count": 90,
      "outputs": []
    },
    {
      "cell_type": "code",
      "metadata": {
        "id": "NgNW_fb6kOPy",
        "colab_type": "code",
        "colab": {}
      },
      "source": [
        ""
      ],
      "execution_count": null,
      "outputs": []
    }
  ]
}