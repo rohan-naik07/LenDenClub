{
  "nbformat": 4,
  "nbformat_minor": 0,
  "metadata": {
    "colab": {
      "name": "v5_Task2.ipynb",
      "provenance": [],
      "collapsed_sections": []
    },
    "kernelspec": {
      "name": "python3",
      "display_name": "Python 3"
    }
  },
  "cells": [
    {
      "cell_type": "code",
      "metadata": {
        "id": "QVaE3K650bpb",
        "colab_type": "code",
        "colab": {}
      },
      "source": [
        "import numpy as np\n",
        "import pandas as pd\n",
        "import ast\n",
        "from pandas.io.json import json_normalize\n",
        "\n",
        "path = '/content/query_result_2020-07-10T11_58_44.440082Z.csv'"
      ],
      "execution_count": 229,
      "outputs": []
    },
    {
      "cell_type": "code",
      "metadata": {
        "id": "LtHAV9yFL4yq",
        "colab_type": "code",
        "colab": {}
      },
      "source": [
        "dataframe = pd.read_csv(path, usecols = ['User ID','Response'])"
      ],
      "execution_count": 230,
      "outputs": []
    },
    {
      "cell_type": "code",
      "metadata": {
        "id": "ylo_0THpNdxP",
        "colab_type": "code",
        "colab": {}
      },
      "source": [
        "dataframe['Response'] = dataframe['Response'].apply(lambda data_entry : ast.literal_eval(str(data_entry)))"
      ],
      "execution_count": 231,
      "outputs": []
    },
    {
      "cell_type": "code",
      "metadata": {
        "id": "iaGsgIa1RUAj",
        "colab_type": "code",
        "colab": {
          "base_uri": "https://localhost:8080/",
          "height": 70
        },
        "outputId": "7ef444a2-e703-4eb5-a37d-9598ee5289fe"
      },
      "source": [
        "dataframe2 = json_normalize(dataframe['Response'])"
      ],
      "execution_count": 232,
      "outputs": [
        {
          "output_type": "stream",
          "text": [
            "/usr/local/lib/python3.6/dist-packages/ipykernel_launcher.py:1: FutureWarning: pandas.io.json.json_normalize is deprecated, use pandas.json_normalize instead\n",
            "  \"\"\"Entry point for launching an IPython kernel.\n"
          ],
          "name": "stderr"
        }
      ]
    },
    {
      "cell_type": "code",
      "metadata": {
        "id": "MGBqNuWFSGPy",
        "colab_type": "code",
        "colab": {}
      },
      "source": [
        "dataframe2 = pd.concat([dataframe['User ID'],dataframe2['data']],axis=1)"
      ],
      "execution_count": 233,
      "outputs": []
    },
    {
      "cell_type": "code",
      "metadata": {
        "id": "ggXFcN3dSxBz",
        "colab_type": "code",
        "colab": {}
      },
      "source": [
        "dataframe2 = dataframe2[dataframe2['data'].notnull()]"
      ],
      "execution_count": 234,
      "outputs": []
    },
    {
      "cell_type": "code",
      "metadata": {
        "id": "3CqT9FUMTzcn",
        "colab_type": "code",
        "colab": {}
      },
      "source": [
        "dataframe2.index = pd.RangeIndex(start = 0,stop=dataframe2.shape[0],step=1)"
      ],
      "execution_count": 235,
      "outputs": []
    },
    {
      "cell_type": "code",
      "metadata": {
        "id": "XMqp4Ljc4heV",
        "colab_type": "code",
        "colab": {}
      },
      "source": [
        "bank_names = []\n",
        "account_nos =[]\n",
        "account_name =[]\n",
        "salary = []\n",
        "\n",
        "for data_index in range(dataframe2.shape[0]):\n",
        "  bank_names.append(dataframe2['data'][data_index][0]['bankName'])\n",
        "  account_nos.append(dataframe2['data'][data_index][0]['accountNumber'])\n",
        "  account_name.append(dataframe2['data'][data_index][0]['accountName'])\n",
        "  if dataframe2['data'][data_index][0]['salary']:\n",
        "    salary.append(dataframe2['data'][data_index][0]['salary'][-1]['totalSalary'])\n",
        "  else:\n",
        "    salary.append(-1)"
      ],
      "execution_count": 236,
      "outputs": []
    },
    {
      "cell_type": "code",
      "metadata": {
        "id": "JJf2Ygmn5FJe",
        "colab_type": "code",
        "colab": {}
      },
      "source": [
        "#account_name = np.array(account_name)\n",
        "#account_nos = np.array(account_nos)\n",
        "#bank_names = np.array(bank_names)\n",
        "#salary = np.array(salary)"
      ],
      "execution_count": 237,
      "outputs": []
    },
    {
      "cell_type": "code",
      "metadata": {
        "id": "pFKMjja_gT_j",
        "colab_type": "code",
        "colab": {}
      },
      "source": [
        "final_dataframe = pd.DataFrame({'User-ID':dataframe2['User ID'],'Bank-Name':np.array(bank_names),'Account-Holder-Name':np.array(account_name),'Account-No':np.array(account_nos),'Recent-Salary':np.array(salary)})"
      ],
      "execution_count": 238,
      "outputs": []
    },
    {
      "cell_type": "code",
      "metadata": {
        "id": "i-W45etcg0mV",
        "colab_type": "code",
        "colab": {
          "base_uri": "https://localhost:8080/",
          "height": 402
        },
        "outputId": "50262c1e-9f57-484b-f80e-77ea5efce667"
      },
      "source": [
        "final_dataframe"
      ],
      "execution_count": 239,
      "outputs": [
        {
          "output_type": "execute_result",
          "data": {
            "text/html": [
              "<div>\n",
              "<style scoped>\n",
              "    .dataframe tbody tr th:only-of-type {\n",
              "        vertical-align: middle;\n",
              "    }\n",
              "\n",
              "    .dataframe tbody tr th {\n",
              "        vertical-align: top;\n",
              "    }\n",
              "\n",
              "    .dataframe thead th {\n",
              "        text-align: right;\n",
              "    }\n",
              "</style>\n",
              "<table border=\"1\" class=\"dataframe\">\n",
              "  <thead>\n",
              "    <tr style=\"text-align: right;\">\n",
              "      <th></th>\n",
              "      <th>User-ID</th>\n",
              "      <th>Bank-Name</th>\n",
              "      <th>Account-Holder-Name</th>\n",
              "      <th>Account-No</th>\n",
              "      <th>Recent-Salary</th>\n",
              "    </tr>\n",
              "  </thead>\n",
              "  <tbody>\n",
              "    <tr>\n",
              "      <th>0</th>\n",
              "      <td>104832</td>\n",
              "      <td>HDFC</td>\n",
              "      <td>SHANKAR VITTHAL BANSODE</td>\n",
              "      <td>50100287183763</td>\n",
              "      <td>11553.0</td>\n",
              "    </tr>\n",
              "    <tr>\n",
              "      <th>1</th>\n",
              "      <td>434859</td>\n",
              "      <td>STANDARD CHARTERED</td>\n",
              "      <td>KUMAR NITESH</td>\n",
              "      <td>27011717278</td>\n",
              "      <td>18271.0</td>\n",
              "    </tr>\n",
              "    <tr>\n",
              "      <th>2</th>\n",
              "      <td>293921</td>\n",
              "      <td>HDFC</td>\n",
              "      <td>PAWAN KUMAR RAI</td>\n",
              "      <td>50100330886677</td>\n",
              "      <td>17436.0</td>\n",
              "    </tr>\n",
              "    <tr>\n",
              "      <th>3</th>\n",
              "      <td>172850</td>\n",
              "      <td>ICICI</td>\n",
              "      <td>FARIDUDDIN CHAUDHARY</td>\n",
              "      <td>197401503617</td>\n",
              "      <td>-1.0</td>\n",
              "    </tr>\n",
              "    <tr>\n",
              "      <th>4</th>\n",
              "      <td>63085</td>\n",
              "      <td>ICICI</td>\n",
              "      <td>RUPESH YENUGU</td>\n",
              "      <td>059601506728</td>\n",
              "      <td>-1.0</td>\n",
              "    </tr>\n",
              "    <tr>\n",
              "      <th>...</th>\n",
              "      <td>...</td>\n",
              "      <td>...</td>\n",
              "      <td>...</td>\n",
              "      <td>...</td>\n",
              "      <td>...</td>\n",
              "    </tr>\n",
              "    <tr>\n",
              "      <th>314</th>\n",
              "      <td>321522</td>\n",
              "      <td>IDFC</td>\n",
              "      <td>R Prabu</td>\n",
              "      <td>10038821419</td>\n",
              "      <td>14078.0</td>\n",
              "    </tr>\n",
              "    <tr>\n",
              "      <th>315</th>\n",
              "      <td>293171</td>\n",
              "      <td>ICICI</td>\n",
              "      <td>None</td>\n",
              "      <td>001401538521</td>\n",
              "      <td>41627.0</td>\n",
              "    </tr>\n",
              "    <tr>\n",
              "      <th>316</th>\n",
              "      <td>539352</td>\n",
              "      <td>SBI</td>\n",
              "      <td>MARI KANAKA DURGA</td>\n",
              "      <td>00000062308585354</td>\n",
              "      <td>-1.0</td>\n",
              "    </tr>\n",
              "    <tr>\n",
              "      <th>317</th>\n",
              "      <td>103270</td>\n",
              "      <td>HDFC</td>\n",
              "      <td>RUPA YASH SHUKLA</td>\n",
              "      <td>50100257779051</td>\n",
              "      <td>27500.0</td>\n",
              "    </tr>\n",
              "    <tr>\n",
              "      <th>318</th>\n",
              "      <td>540212</td>\n",
              "      <td>HDFC</td>\n",
              "      <td>NILENDU DAS</td>\n",
              "      <td>50100199646413</td>\n",
              "      <td>32476.0</td>\n",
              "    </tr>\n",
              "  </tbody>\n",
              "</table>\n",
              "<p>319 rows × 5 columns</p>\n",
              "</div>"
            ],
            "text/plain": [
              "     User-ID           Bank-Name  ...         Account-No Recent-Salary\n",
              "0     104832                HDFC  ...     50100287183763       11553.0\n",
              "1     434859  STANDARD CHARTERED  ...        27011717278       18271.0\n",
              "2     293921                HDFC  ...     50100330886677       17436.0\n",
              "3     172850               ICICI  ...       197401503617          -1.0\n",
              "4      63085               ICICI  ...       059601506728          -1.0\n",
              "..       ...                 ...  ...                ...           ...\n",
              "314   321522                IDFC  ...        10038821419       14078.0\n",
              "315   293171               ICICI  ...       001401538521       41627.0\n",
              "316   539352                 SBI  ...  00000062308585354          -1.0\n",
              "317   103270                HDFC  ...     50100257779051       27500.0\n",
              "318   540212                HDFC  ...     50100199646413       32476.0\n",
              "\n",
              "[319 rows x 5 columns]"
            ]
          },
          "metadata": {
            "tags": []
          },
          "execution_count": 239
        }
      ]
    },
    {
      "cell_type": "code",
      "metadata": {
        "id": "K1D1Bbhfa5Ko",
        "colab_type": "code",
        "colab": {}
      },
      "source": [
        "#final_df.to_csv('v5_final.csv',index=False)"
      ],
      "execution_count": 240,
      "outputs": []
    },
    {
      "cell_type": "code",
      "metadata": {
        "id": "NgNW_fb6kOPy",
        "colab_type": "code",
        "colab": {}
      },
      "source": [
        ""
      ],
      "execution_count": 240,
      "outputs": []
    }
  ]
}